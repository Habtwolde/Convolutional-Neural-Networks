{
  "nbformat": 4,
  "nbformat_minor": 0,
  "metadata": {
    "colab": {
      "provenance": [],
      "gpuType": "T4"
    },
    "kernelspec": {
      "name": "python3",
      "display_name": "Python 3"
    },
    "language_info": {
      "name": "python"
    },
    "accelerator": "GPU"
  },
  "cells": [
    {
      "cell_type": "code",
      "execution_count": null,
      "metadata": {
        "id": "0GBLqedeiTTP"
      },
      "outputs": [],
      "source": [
        "import tensorflow as tf\n",
        "import logging\n",
        "logger = tf.get_logger()\n",
        "logger.setLevel(logging.ERROR)\n",
        "import numpy as np"
      ]
    },
    {
      "cell_type": "code",
      "source": [
        "cels = np.array([-40, -10, 0, 8, 15, 22, 38], dtype=float)\n",
        "fahr = np.array([-40, 14, 32, 46, 59, 72, 100], dtype=float)\n",
        "\n",
        "for i, c in enumerate(cels):\n",
        "  print(\"{} degrees in Celisus = {} is degrees in Fahranhet\".format(c, fahr[i]))"
      ],
      "metadata": {
        "id": "_LLrwIuVjDFd"
      },
      "execution_count": null,
      "outputs": []
    },
    {
      "cell_type": "code",
      "source": [
        "l0 = tf.keras.layers.Dense(units=4, input_shape=[1]) \n",
        "l1 = tf.keras.layers.Dense(units=4)\n",
        "l2 = tf.keras.layers.Dense(units=1)\n",
        "\n",
        "model = tf.keras.Sequential([l0, l1, l2])"
      ],
      "metadata": {
        "id": "3H6oSjiJkrmt"
      },
      "execution_count": null,
      "outputs": []
    },
    {
      "cell_type": "code",
      "source": [
        "model.compile(loss='mean_squared_error', optimizer=tf.keras.optimizers.Adam(0.1))"
      ],
      "metadata": {
        "id": "ksikN_v0lyPM"
      },
      "execution_count": null,
      "outputs": []
    },
    {
      "cell_type": "code",
      "source": [
        "history= model.fit(cels, fahr, epochs=500, verbose=False)\n",
        "print(\"finished training the model\")"
      ],
      "metadata": {
        "colab": {
          "base_uri": "https://localhost:8080/"
        },
        "id": "kb-aXfGnmHmm",
        "outputId": "6060522d-7f01-4163-d14f-4513507e52d7"
      },
      "execution_count": null,
      "outputs": [
        {
          "output_type": "stream",
          "name": "stdout",
          "text": [
            "finished training the model\n"
          ]
        }
      ]
    },
    {
      "cell_type": "code",
      "source": [
        "import matplotlib.pyplot as plt\n",
        "plt.xlabel('Epoches number')\n",
        "plt.ylabel('Loss')\n",
        "plt.plot(history.history['loss'])\n"
      ],
      "metadata": {
        "colab": {
          "base_uri": "https://localhost:8080/",
          "height": 467
        },
        "id": "_oNqLMEZmhDL",
        "outputId": "2fe32ade-e7b8-45eb-ae5f-3067accfb316"
      },
      "execution_count": null,
      "outputs": [
        {
          "output_type": "execute_result",
          "data": {
            "text/plain": [
              "[<matplotlib.lines.Line2D at 0x7fa4e0baf850>]"
            ]
          },
          "metadata": {},
          "execution_count": 21
        },
        {
          "output_type": "display_data",
          "data": {
            "text/plain": [
              "<Figure size 640x480 with 1 Axes>"
            ],
            "image/png": "[encoded data removed]"
          },
          "metadata": {}
        }
      ]
    },
    {
      "cell_type": "code",
      "source": [
        "print(model.predict([255]))"
      ],
      "metadata": {
        "colab": {
          "base_uri": "https://localhost:8080/"
        },
        "id": "fMT-Jzj1nfXX",
        "outputId": "8d3c34a3-0f62-4d43-e9c0-4f5f020b6bfb"
      },
      "execution_count": null,
      "outputs": [
        {
          "output_type": "stream",
          "name": "stdout",
          "text": [
            "1/1 [==============================] - 0s 84ms/step\n",
            "[[490.42947]]\n"
          ]
        }
      ]
    },
    {
      "cell_type": "code",
      "source": [
        "print(\"These are the layer variable: {}\".format(l0.get_weights()))\n"
      ],
      "metadata": {
        "colab": {
          "base_uri": "https://localhost:8080/"
        },
        "id": "NMDRtvQgoCn6",
        "outputId": "231c4a77-4de3-4a80-e2a9-f2242157645a"
      },
      "execution_count": null,
      "outputs": [
        {
          "output_type": "stream",
          "name": "stdout",
          "text": [
            "These are the layer variable: [array([[ 0.780571  ,  0.2968898 , -0.74810684,  0.36187926]],\n",
            "      dtype=float32), array([ 3.662424 , -0.2043244, -3.6206067, -2.0130203], dtype=float32)]\n"
          ]
        }
      ]
    },
    {
      "cell_type": "code",
      "source": [
        "print(\"These are the layer variable: {}\".format(l1.get_weights()))"
      ],
      "metadata": {
        "colab": {
          "base_uri": "https://localhost:8080/"
        },
        "id": "KdOB8kMidntg",
        "outputId": "bde14d66-e0c7-4cbf-8618-65e3f696fb49"
      },
      "execution_count": null,
      "outputs": [
        {
          "output_type": "stream",
          "name": "stdout",
          "text": [
            "These are the layer variable: [array([[-0.52045375,  0.81835604, -0.08686838, -0.26820195],\n",
            "       [-0.02159481, -0.15285183, -0.64505035,  0.5676226 ],\n",
            "       [ 0.46279666, -0.795542  , -0.28294647,  0.39789876],\n",
            "       [ 0.6633965 , -0.38332328,  0.17093346,  1.1937319 ]],\n",
            "      dtype=float32), array([-3.117513 ,  3.5797377, -3.1225917, -1.8293309], dtype=float32)]\n"
          ]
        }
      ]
    },
    {
      "cell_type": "code",
      "source": [
        "print(\"These are the layer variable: {}\".format(l2.get_weights()))"
      ],
      "metadata": {
        "colab": {
          "base_uri": "https://localhost:8080/"
        },
        "id": "DBUPvEQido6x",
        "outputId": "047c54a7-f69a-4b58-9185-02ba36d0208e"
      },
      "execution_count": null,
      "outputs": [
        {
          "output_type": "stream",
          "name": "stdout",
          "text": [
            "These are the layer variable: [array([[-0.92172474],\n",
            "       [ 1.3442702 ],\n",
            "       [-0.40639633],\n",
            "       [-0.91718197]], dtype=float32), array([3.4797738], dtype=float32)]\n"
          ]
        }
      ]
    }
  ]
}