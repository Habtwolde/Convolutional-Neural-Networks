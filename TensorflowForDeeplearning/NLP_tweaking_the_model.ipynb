{
  "cells": [
    {
      "cell_type": "markdown",
      "metadata": {
        "id": "QrxSyyyhygUR"
      },
      "source": [
        "# Tweaking the Model"
      ]
    },
    {
      "cell_type": "markdown",
      "metadata": {
        "id": "xiWacy71Cu54"
      },
      "source": [
        "In this colab, you'll investigate how various tweaks to data processing and the model itself can impact results. At the end, you'll once again be able to visualize how the network sees the related sentiment of each word in the dataset."
      ]
    },
    {
      "cell_type": "markdown",
      "metadata": {
        "id": "hY-fjvwfy2P9"
      },
      "source": [
        "## Import TensorFlow and related functions"
      ]
    },
    {
      "cell_type": "code",
      "execution_count": 1,
      "metadata": {
        "id": "drsUfVVXyxJl"
      },
      "outputs": [],
      "source": [
        "import tensorflow as tf\n",
        "\n",
        "from tensorflow.keras.preprocessing.text import Tokenizer\n",
        "from tensorflow.keras.preprocessing.sequence import pad_sequences"
      ]
    },
    {
      "cell_type": "markdown",
      "metadata": {
        "id": "ZIf1N46jy6Ed"
      },
      "source": [
        "## Get the dataset\n",
        "\n",
        "We'll once again use the dataset containing Amazon and Yelp reviews. This dataset was originally extracted from [here](https://www.kaggle.com/marklvl/sentiment-labelled-sentences-data-set)."
      ]
    },
    {
      "cell_type": "code",
      "execution_count": 2,
      "metadata": {
        "id": "m83g42sJzGO0",
        "outputId": "03e79c89-e0d2-4285-b09e-91f1017310f4",
        "colab": {
          "base_uri": "https://localhost:8080/"
        }
      },
      "outputs": [
        {
          "output_type": "stream",
          "name": "stdout",
          "text": [
            "--2023-06-29 07:45:18--  https://drive.google.com/uc?id=13ySLC_ue6Umt9RJYSeM2t-V0kCv-4C-P\n",
            "Resolving drive.google.com (drive.google.com)... 142.251.16.139, 142.251.16.101, 142.251.16.100, ...\n",
            "Connecting to drive.google.com (drive.google.com)|142.251.16.139|:443... connected.\n",
            "HTTP request sent, awaiting response... 303 See Other\n",
            "Location: https://doc-08-ak-docs.googleusercontent.com/docs/securesc/ha0ro937gcuc7l7deffksulhg5h7mbp1/2ph27n2nueshr6lbue4ka8dk5h539kel/1688024700000/11118900490791463723/*/13ySLC_ue6Umt9RJYSeM2t-V0kCv-4C-P?uuid=76634c16-22ec-496c-8d1e-cd71e2fe9e69 [following]\n",
            "Warning: wildcards not supported in HTTP.\n",
            "--2023-06-29 07:45:18--  https://doc-08-ak-docs.googleusercontent.com/docs/securesc/ha0ro937gcuc7l7deffksulhg5h7mbp1/2ph27n2nueshr6lbue4ka8dk5h539kel/1688024700000/11118900490791463723/*/13ySLC_ue6Umt9RJYSeM2t-V0kCv-4C-P?uuid=76634c16-22ec-496c-8d1e-cd71e2fe9e69\n",
            "Resolving doc-08-ak-docs.googleusercontent.com (doc-08-ak-docs.googleusercontent.com)... 172.253.122.132, 2607:f8b0:4004:c09::84\n",
            "Connecting to doc-08-ak-docs.googleusercontent.com (doc-08-ak-docs.googleusercontent.com)|172.253.122.132|:443... connected.\n",
            "HTTP request sent, awaiting response... 200 OK\n",
            "Length: 127831 (125K) [text/csv]\n",
            "Saving to: ‘/tmp/sentiment.csv’\n",
            "\n",
            "/tmp/sentiment.csv  100%[===================>] 124.83K  --.-KB/s    in 0.02s   \n",
            "\n",
            "2023-06-29 07:45:18 (6.91 MB/s) - ‘/tmp/sentiment.csv’ saved [127831/127831]\n",
            "\n"
          ]
        }
      ],
      "source": [
        "!wget --no-check-certificate \\\n",
        "    https://drive.google.com/uc?id=13ySLC_ue6Umt9RJYSeM2t-V0kCv-4C-P \\\n",
        "    -O /tmp/sentiment.csv"
      ]
    },
    {
      "cell_type": "code",
      "execution_count": 3,
      "metadata": {
        "id": "y4e6GG2CzJUq"
      },
      "outputs": [],
      "source": [
        "import numpy as np\n",
        "import pandas as pd\n",
        "\n",
        "dataset = pd.read_csv('/tmp/sentiment.csv')\n",
        "\n",
        "sentences = dataset['text'].tolist()\n",
        "labels = dataset['sentiment'].tolist()\n",
        "\n",
        "# Separate out the sentences and labels into training and test sets\n",
        "training_size = int(len(sentences) * 0.8)\n",
        "\n",
        "training_sentences = sentences[0:training_size]\n",
        "testing_sentences = sentences[training_size:]\n",
        "training_labels = labels[0:training_size]\n",
        "testing_labels = labels[training_size:]\n",
        "\n",
        "# Make labels into numpy arrays for use with the network later\n",
        "training_labels_final = np.array(training_labels)\n",
        "testing_labels_final = np.array(testing_labels)"
      ]
    },
    {
      "cell_type": "markdown",
      "metadata": {
        "id": "drDkTFMuzW6N"
      },
      "source": [
        "## Tokenize the dataset (with tweaks!)\n",
        "\n",
        "Now, we'll tokenize the dataset, but we can make some changes to this from before. Previously, we used:\n",
        "```\n",
        "vocab_size = 1000\n",
        "embedding_dim = 16\n",
        "max_length = 100\n",
        "trunc_type='post'\n",
        "padding_type='post'\n",
        "```\n",
        "\n",
        "How might changing the `vocab_size`, `embedding_dim` or `max_length` affect how the model performs?"
      ]
    },
    {
      "cell_type": "code",
      "execution_count": 4,
      "metadata": {
        "id": "hjPUJFhQzuee"
      },
      "outputs": [],
      "source": [
        "vocab_size = 500\n",
        "embedding_dim = 16\n",
        "max_length = 50\n",
        "trunc_type='post'\n",
        "padding_type='post'\n",
        "oov_tok = \"<OOV>\"\n",
        "\n",
        "tokenizer = Tokenizer(num_words = vocab_size, oov_token=oov_tok)\n",
        "tokenizer.fit_on_texts(training_sentences)\n",
        "word_index = tokenizer.word_index\n",
        "training_sequences = tokenizer.texts_to_sequences(training_sentences)\n",
        "training_padded = pad_sequences(training_sequences, maxlen=max_length, padding=padding_type, truncating=trunc_type)\n",
        "\n",
        "testing_sequences = tokenizer.texts_to_sequences(testing_sentences)\n",
        "testing_padded = pad_sequences(testing_sequences, maxlen=max_length, padding=padding_type, truncating=trunc_type)"
      ]
    },
    {
      "cell_type": "markdown",
      "metadata": {
        "id": "FwFjO1kg0UUK"
      },
      "source": [
        "## Train a Sentiment Model (with tweaks!)\n",
        "\n",
        "We'll use a slightly different model here, using `GlobalAveragePooling1D` instead of `Flatten()`."
      ]
    },
    {
      "cell_type": "code",
      "execution_count": 5,
      "metadata": {
        "id": "ectP92fl0dFO",
        "outputId": "b7185f89-6cf6-4174-f70f-893398919b86",
        "colab": {
          "base_uri": "https://localhost:8080/"
        }
      },
      "outputs": [
        {
          "output_type": "stream",
          "name": "stdout",
          "text": [
            "Model: \"sequential\"\n",
            "_________________________________________________________________\n",
            " Layer (type)                Output Shape              Param #   \n",
            "=================================================================\n",
            " embedding (Embedding)       (None, 50, 16)            8000      \n",
            "                                                                 \n",
            " global_average_pooling1d (G  (None, 16)               0         \n",
            " lobalAveragePooling1D)                                          \n",
            "                                                                 \n",
            " dense (Dense)               (None, 6)                 102       \n",
            "                                                                 \n",
            " dense_1 (Dense)             (None, 1)                 7         \n",
            "                                                                 \n",
            "=================================================================\n",
            "Total params: 8,109\n",
            "Trainable params: 8,109\n",
            "Non-trainable params: 0\n",
            "_________________________________________________________________\n"
          ]
        }
      ],
      "source": [
        "model = tf.keras.Sequential([\n",
        "    tf.keras.layers.Embedding(vocab_size, embedding_dim, input_length=max_length),\n",
        "    tf.keras.layers.GlobalAveragePooling1D(),\n",
        "    tf.keras.layers.Dense(6, activation='relu'),\n",
        "    tf.keras.layers.Dense(1, activation='sigmoid')\n",
        "])\n",
        "model.compile(loss='binary_crossentropy',optimizer='adam',metrics=['accuracy'])\n",
        "model.summary()"
      ]
    },
    {
      "cell_type": "code",
      "execution_count": 6,
      "metadata": {
        "id": "7TQIaGjs073w",
        "outputId": "0c6ef258-fc4c-42ab-f310-961cb3ca67d2",
        "colab": {
          "base_uri": "https://localhost:8080/"
        }
      },
      "outputs": [
        {
          "output_type": "stream",
          "name": "stdout",
          "text": [
            "Epoch 1/30\n",
            "50/50 [==============================] - 18s 226ms/step - loss: 0.6923 - accuracy: 0.5104 - val_loss: 0.6957 - val_accuracy: 0.4135\n",
            "Epoch 2/30\n",
            "50/50 [==============================] - 7s 129ms/step - loss: 0.6900 - accuracy: 0.5279 - val_loss: 0.6967 - val_accuracy: 0.4135\n",
            "Epoch 3/30\n",
            "50/50 [==============================] - 1s 27ms/step - loss: 0.6873 - accuracy: 0.5455 - val_loss: 0.6951 - val_accuracy: 0.4361\n",
            "Epoch 4/30\n",
            "50/50 [==============================] - 1s 30ms/step - loss: 0.6827 - accuracy: 0.5556 - val_loss: 0.6875 - val_accuracy: 0.5238\n",
            "Epoch 5/30\n",
            "50/50 [==============================] - 0s 9ms/step - loss: 0.6756 - accuracy: 0.6277 - val_loss: 0.6826 - val_accuracy: 0.5414\n",
            "Epoch 6/30\n",
            "50/50 [==============================] - 1s 14ms/step - loss: 0.6649 - accuracy: 0.6573 - val_loss: 0.6699 - val_accuracy: 0.6291\n",
            "Epoch 7/30\n",
            "50/50 [==============================] - 0s 6ms/step - loss: 0.6500 - accuracy: 0.7294 - val_loss: 0.6670 - val_accuracy: 0.5564\n",
            "Epoch 8/30\n",
            "50/50 [==============================] - 0s 9ms/step - loss: 0.6307 - accuracy: 0.7250 - val_loss: 0.6387 - val_accuracy: 0.7243\n",
            "Epoch 9/30\n",
            "50/50 [==============================] - 0s 9ms/step - loss: 0.6080 - accuracy: 0.7765 - val_loss: 0.6391 - val_accuracy: 0.6090\n",
            "Epoch 10/30\n",
            "50/50 [==============================] - 0s 9ms/step - loss: 0.5799 - accuracy: 0.7797 - val_loss: 0.5986 - val_accuracy: 0.7719\n",
            "Epoch 11/30\n",
            "50/50 [==============================] - 0s 5ms/step - loss: 0.5517 - accuracy: 0.8060 - val_loss: 0.6003 - val_accuracy: 0.6617\n",
            "Epoch 12/30\n",
            "50/50 [==============================] - 0s 5ms/step - loss: 0.5190 - accuracy: 0.8161 - val_loss: 0.5577 - val_accuracy: 0.7845\n",
            "Epoch 13/30\n",
            "50/50 [==============================] - 0s 5ms/step - loss: 0.4890 - accuracy: 0.8318 - val_loss: 0.5614 - val_accuracy: 0.7093\n",
            "Epoch 14/30\n",
            "50/50 [==============================] - 0s 7ms/step - loss: 0.4593 - accuracy: 0.8387 - val_loss: 0.5317 - val_accuracy: 0.7744\n",
            "Epoch 15/30\n",
            "50/50 [==============================] - 1s 11ms/step - loss: 0.4327 - accuracy: 0.8500 - val_loss: 0.5188 - val_accuracy: 0.7794\n",
            "Epoch 16/30\n",
            "50/50 [==============================] - 1s 13ms/step - loss: 0.4112 - accuracy: 0.8468 - val_loss: 0.5054 - val_accuracy: 0.7870\n",
            "Epoch 17/30\n",
            "50/50 [==============================] - 1s 10ms/step - loss: 0.3900 - accuracy: 0.8619 - val_loss: 0.5398 - val_accuracy: 0.7018\n",
            "Epoch 18/30\n",
            "50/50 [==============================] - 1s 12ms/step - loss: 0.3707 - accuracy: 0.8682 - val_loss: 0.5058 - val_accuracy: 0.7519\n",
            "Epoch 19/30\n",
            "50/50 [==============================] - 1s 24ms/step - loss: 0.3540 - accuracy: 0.8719 - val_loss: 0.4854 - val_accuracy: 0.7945\n",
            "Epoch 20/30\n",
            "50/50 [==============================] - 1s 15ms/step - loss: 0.3401 - accuracy: 0.8757 - val_loss: 0.4883 - val_accuracy: 0.7794\n",
            "Epoch 21/30\n",
            "50/50 [==============================] - 0s 8ms/step - loss: 0.3280 - accuracy: 0.8751 - val_loss: 0.5182 - val_accuracy: 0.7143\n",
            "Epoch 22/30\n",
            "50/50 [==============================] - 1s 15ms/step - loss: 0.3157 - accuracy: 0.8782 - val_loss: 0.4880 - val_accuracy: 0.7744\n",
            "Epoch 23/30\n",
            "50/50 [==============================] - 1s 25ms/step - loss: 0.3025 - accuracy: 0.8858 - val_loss: 0.4879 - val_accuracy: 0.7694\n",
            "Epoch 24/30\n",
            "50/50 [==============================] - 1s 17ms/step - loss: 0.2942 - accuracy: 0.8883 - val_loss: 0.4874 - val_accuracy: 0.7744\n",
            "Epoch 25/30\n",
            "50/50 [==============================] - 1s 16ms/step - loss: 0.2870 - accuracy: 0.8876 - val_loss: 0.4990 - val_accuracy: 0.7419\n",
            "Epoch 26/30\n",
            "50/50 [==============================] - 1s 13ms/step - loss: 0.2781 - accuracy: 0.8964 - val_loss: 0.4905 - val_accuracy: 0.7594\n",
            "Epoch 27/30\n",
            "50/50 [==============================] - 0s 9ms/step - loss: 0.2681 - accuracy: 0.8958 - val_loss: 0.4955 - val_accuracy: 0.7494\n",
            "Epoch 28/30\n",
            "50/50 [==============================] - 0s 9ms/step - loss: 0.2616 - accuracy: 0.8958 - val_loss: 0.4923 - val_accuracy: 0.7594\n",
            "Epoch 29/30\n",
            "50/50 [==============================] - 0s 9ms/step - loss: 0.2556 - accuracy: 0.9008 - val_loss: 0.4906 - val_accuracy: 0.7594\n",
            "Epoch 30/30\n",
            "50/50 [==============================] - 1s 28ms/step - loss: 0.2520 - accuracy: 0.8996 - val_loss: 0.5377 - val_accuracy: 0.7193\n"
          ]
        }
      ],
      "source": [
        "num_epochs = 30\n",
        "history = model.fit(training_padded, training_labels_final, epochs=num_epochs, validation_data=(testing_padded, testing_labels_final))"
      ]
    },
    {
      "cell_type": "markdown",
      "metadata": {
        "id": "alAlYort7gWV"
      },
      "source": [
        "## Visualize the training graph\n",
        "\n",
        "You can use the code below to visualize the training and validation accuracy while you try out different tweaks to the hyperparameters and model."
      ]
    },
    {
      "cell_type": "code",
      "execution_count": 7,
      "metadata": {
        "id": "o9l5vBeU71vH",
        "outputId": "b370896c-a075-4616-bae6-95729fa511a4",
        "colab": {
          "base_uri": "https://localhost:8080/",
          "height": 881
        }
      },
      "outputs": [
        {
          "output_type": "display_data",
          "data": {
            "text/plain": [
              "<Figure size 640x480 with 1 Axes>"
            ],
            "image/png": "[encoded data removed]"
          },
          "metadata": {}
        },
        {
          "output_type": "display_data",
          "data": {
            "text/plain": [
              "<Figure size 640x480 with 1 Axes>"
            ],
            "image/png": "[encoded data removed]"
          },
          "metadata": {}
        }
      ],
      "source": [
        "import matplotlib.pyplot as plt\n",
        "\n",
        "\n",
        "def plot_graphs(history, string):\n",
        "  plt.plot(history.history[string])\n",
        "  plt.plot(history.history['val_'+string])\n",
        "  plt.xlabel(\"Epochs\")\n",
        "  plt.ylabel(string)\n",
        "  plt.legend([string, 'val_'+string])\n",
        "  plt.show()\n",
        "\n",
        "plot_graphs(history, \"accuracy\")\n",
        "plot_graphs(history, \"loss\")"
      ]
    },
    {
      "cell_type": "markdown",
      "metadata": {
        "id": "SZzXE-pT8K57"
      },
      "source": [
        "## Get files for visualizing the network\n",
        "\n",
        "The code below will download two files for visualizing how your network \"sees\" the sentiment related to each word. Head to http://projector.tensorflow.org/ and load these files, then click the checkbox to \"sphereize\" the data.\n",
        "\n",
        "Note: You may run into errors with the projection if your `vocab_size` earlier was larger than the actual number of words in the vocabulary, in which case you'll need to decrease this variable and re-train in order to visualize."
      ]
    },
    {
      "cell_type": "code",
      "execution_count": 8,
      "metadata": {
        "id": "2Ex4o7Lc8Njl",
        "outputId": "a28a577a-a508-4aef-8a82-04eca99f3d55",
        "colab": {
          "base_uri": "https://localhost:8080/"
        }
      },
      "outputs": [
        {
          "output_type": "stream",
          "name": "stdout",
          "text": [
            "(500, 16)\n"
          ]
        }
      ],
      "source": [
        "# First get the weights of the embedding layer\n",
        "e = model.layers[0]\n",
        "weights = e.get_weights()[0]\n",
        "print(weights.shape) # shape: (vocab_size, embedding_dim)"
      ]
    },
    {
      "cell_type": "code",
      "execution_count": 9,
      "metadata": {
        "id": "bUL1zk5p8WIV"
      },
      "outputs": [],
      "source": [
        "import io\n",
        "\n",
        "# Create the reverse word index\n",
        "reverse_word_index = dict([(value, key) for (key, value) in word_index.items()])\n",
        "\n",
        "# Write out the embedding vectors and metadata\n",
        "out_v = io.open('vecs.tsv', 'w', encoding='utf-8')\n",
        "out_m = io.open('meta.tsv', 'w', encoding='utf-8')\n",
        "for word_num in range(1, vocab_size):\n",
        "  word = reverse_word_index[word_num]\n",
        "  embeddings = weights[word_num]\n",
        "  out_m.write(word + \"\\n\")\n",
        "  out_v.write('\\t'.join([str(x) for x in embeddings]) + \"\\n\")\n",
        "out_v.close()\n",
        "out_m.close()"
      ]
    },
    {
      "cell_type": "code",
      "execution_count": 10,
      "metadata": {
        "id": "lqyV8QYnD46U",
        "outputId": "7bfba730-7503-4e4b-edc3-d2e0fc739bf9",
        "colab": {
          "base_uri": "https://localhost:8080/",
          "height": 17
        }
      },
      "outputs": [
        {
          "output_type": "display_data",
          "data": {
            "text/plain": [
              "<IPython.core.display.Javascript object>"
            ],
            "application/javascript": [
              "\n",
              "    async function download(id, filename, size) {\n",
              "      if (!google.colab.kernel.accessAllowed) {\n",
              "        return;\n",
              "      }\n",
              "      const div = document.createElement('div');\n",
              "      const label = document.createElement('label');\n",
              "      label.textContent = `Downloading \"${filename}\": `;\n",
              "      div.appendChild(label);\n",
              "      const progress = document.createElement('progress');\n",
              "      progress.max = size;\n",
              "      div.appendChild(progress);\n",
              "      document.body.appendChild(div);\n",
              "\n",
              "      const buffers = [];\n",
              "      let downloaded = 0;\n",
              "\n",
              "      const channel = await google.colab.kernel.comms.open(id);\n",
              "      // Send a message to notify the kernel that we're ready.\n",
              "      channel.send({})\n",
              "\n",
              "      for await (const message of channel.messages) {\n",
              "        // Send a message to notify the kernel that we're ready.\n",
              "        channel.send({})\n",
              "        if (message.buffers) {\n",
              "          for (const buffer of message.buffers) {\n",
              "            buffers.push(buffer);\n",
              "            downloaded += buffer.byteLength;\n",
              "            progress.value = downloaded;\n",
              "          }\n",
              "        }\n",
              "      }\n",
              "      const blob = new Blob(buffers, {type: 'application/binary'});\n",
              "      const a = document.createElement('a');\n",
              "      a.href = window.URL.createObjectURL(blob);\n",
              "      a.download = filename;\n",
              "      div.appendChild(a);\n",
              "      a.click();\n",
              "      div.remove();\n",
              "    }\n",
              "  "
            ]
          },
          "metadata": {}
        },
        {
          "output_type": "display_data",
          "data": {
            "text/plain": [
              "<IPython.core.display.Javascript object>"
            ],
            "application/javascript": [
              "download(\"download_af518928-cd86-4645-a13f-1210d9e4bdca\", \"vecs.tsv\", 91057)"
            ]
          },
          "metadata": {}
        },
        {
          "output_type": "display_data",
          "data": {
            "text/plain": [
              "<IPython.core.display.Javascript object>"
            ],
            "application/javascript": [
              "\n",
              "    async function download(id, filename, size) {\n",
              "      if (!google.colab.kernel.accessAllowed) {\n",
              "        return;\n",
              "      }\n",
              "      const div = document.createElement('div');\n",
              "      const label = document.createElement('label');\n",
              "      label.textContent = `Downloading \"${filename}\": `;\n",
              "      div.appendChild(label);\n",
              "      const progress = document.createElement('progress');\n",
              "      progress.max = size;\n",
              "      div.appendChild(progress);\n",
              "      document.body.appendChild(div);\n",
              "\n",
              "      const buffers = [];\n",
              "      let downloaded = 0;\n",
              "\n",
              "      const channel = await google.colab.kernel.comms.open(id);\n",
              "      // Send a message to notify the kernel that we're ready.\n",
              "      channel.send({})\n",
              "\n",
              "      for await (const message of channel.messages) {\n",
              "        // Send a message to notify the kernel that we're ready.\n",
              "        channel.send({})\n",
              "        if (message.buffers) {\n",
              "          for (const buffer of message.buffers) {\n",
              "            buffers.push(buffer);\n",
              "            downloaded += buffer.byteLength;\n",
              "            progress.value = downloaded;\n",
              "          }\n",
              "        }\n",
              "      }\n",
              "      const blob = new Blob(buffers, {type: 'application/binary'});\n",
              "      const a = document.createElement('a');\n",
              "      a.href = window.URL.createObjectURL(blob);\n",
              "      a.download = filename;\n",
              "      div.appendChild(a);\n",
              "      a.click();\n",
              "      div.remove();\n",
              "    }\n",
              "  "
            ]
          },
          "metadata": {}
        },
        {
          "output_type": "display_data",
          "data": {
            "text/plain": [
              "<IPython.core.display.Javascript object>"
            ],
            "application/javascript": [
              "download(\"download_6963896d-f228-41c8-94df-4bf4121560a5\", \"meta.tsv\", 3025)"
            ]
          },
          "metadata": {}
        }
      ],
      "source": [
        "# Download the files\n",
        "try:\n",
        "  from google.colab import files\n",
        "except ImportError:\n",
        "  pass\n",
        "else:\n",
        "  files.download('vecs.tsv')\n",
        "  files.download('meta.tsv')"
      ]
    },
    {
      "cell_type": "markdown",
      "metadata": {
        "id": "XUXAlNNk59gG"
      },
      "source": [
        "## Predicting Sentiment in New Reviews\n",
        "\n",
        "Below, we've again included some example new reviews you can test your results on."
      ]
    },
    {
      "cell_type": "code",
      "execution_count": 11,
      "metadata": {
        "id": "JbFTTcaK6Dan",
        "outputId": "a0a3fe6e-67e1-4c24-e369-83769ee07ce9",
        "colab": {
          "base_uri": "https://localhost:8080/"
        }
      },
      "outputs": [
        {
          "output_type": "stream",
          "name": "stdout",
          "text": [
            "['I love this phone', 'I hate spaghetti', 'Everything was cold', 'Everything was hot exactly as I wanted', 'Everything was green', 'the host seated us immediately', 'they gave us free chocolate cake', 'not sure about the wilted flowers on the table', 'only works when I stand on tippy toes', 'does not work when I stand on my head']\n",
            "\n",
            "HOT OFF THE PRESS! HERE ARE SOME NEWLY MINTED, ABSOLUTELY GENUINE REVIEWS!\n",
            "\n",
            "1/1 [==============================] - 0s 83ms/step\n",
            "I love this phone\n",
            "[0.94263214]\n",
            "\n",
            "\n",
            "I hate spaghetti\n",
            "[0.20912063]\n",
            "\n",
            "\n",
            "Everything was cold\n",
            "[0.68869406]\n",
            "\n",
            "\n",
            "Everything was hot exactly as I wanted\n",
            "[0.51208687]\n",
            "\n",
            "\n",
            "Everything was green\n",
            "[0.68869406]\n",
            "\n",
            "\n",
            "the host seated us immediately\n",
            "[0.678493]\n",
            "\n",
            "\n",
            "they gave us free chocolate cake\n",
            "[0.9032951]\n",
            "\n",
            "\n",
            "not sure about the wilted flowers on the table\n",
            "[0.12019376]\n",
            "\n",
            "\n",
            "only works when I stand on tippy toes\n",
            "[0.903749]\n",
            "\n",
            "\n",
            "does not work when I stand on my head\n",
            "[0.02904783]\n",
            "\n",
            "\n"
          ]
        }
      ],
      "source": [
        "# Use the model to predict a review\n",
        "fake_reviews = ['I love this phone', 'I hate spaghetti',\n",
        "                'Everything was cold',\n",
        "                'Everything was hot exactly as I wanted',\n",
        "                'Everything was green',\n",
        "                'the host seated us immediately',\n",
        "                'they gave us free chocolate cake',\n",
        "                'not sure about the wilted flowers on the table',\n",
        "                'only works when I stand on tippy toes',\n",
        "                'does not work when I stand on my head']\n",
        "\n",
        "print(fake_reviews)\n",
        "\n",
        "# Create the sequences\n",
        "padding_type='post'\n",
        "sample_sequences = tokenizer.texts_to_sequences(fake_reviews)\n",
        "fakes_padded = pad_sequences(sample_sequences, padding=padding_type, maxlen=max_length)\n",
        "\n",
        "print('\\nHOT OFF THE PRESS! HERE ARE SOME NEWLY MINTED, ABSOLUTELY GENUINE REVIEWS!\\n')\n",
        "\n",
        "classes = model.predict(fakes_padded)\n",
        "\n",
        "# The closer the class is to 1, the more positive the review is deemed to be\n",
        "for x in range(len(fake_reviews)):\n",
        "  print(fake_reviews[x])\n",
        "  print(classes[x])\n",
        "  print('\\n')\n",
        "\n",
        "# Try adding reviews of your own\n",
        "# Add some negative words (such as \"not\") to the good reviews and see what happens\n",
        "# For example:\n",
        "# they gave us free chocolate cake and did not charge us"
      ]
    }
  ],
  "metadata": {
    "accelerator": "GPU",
    "colab": {
      "name": "l09c05_nlp_tweaking_the_model.ipynb",
      "provenance": []
    },
    "kernelspec": {
      "display_name": "Python 3",
      "name": "python3"
    }
  },
  "nbformat": 4,
  "nbformat_minor": 0
}